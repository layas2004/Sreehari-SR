{
  "nbformat": 4,
  "nbformat_minor": 0,
  "metadata": {
    "colab": {
      "provenance": []
    },
    "kernelspec": {
      "name": "python3",
      "display_name": "Python 3"
    },
    "language_info": {
      "name": "python"
    }
  },
  "cells": [
    {
      "cell_type": "code",
      "execution_count": null,
      "metadata": {
        "id": "3O6NHrCkapu4"
      },
      "outputs": [],
      "source": [
        "import pandas as pd"
      ]
    },
    {
      "cell_type": "code",
      "source": [
        "def generate_fibonacci(max_value):\n",
        "    fibonacci_sequence = []\n",
        "    a, b = 0, 1\n",
        "    while a <= max_value:\n",
        "        fibonacci_sequence.append(a)\n",
        "        a, b = b, a + b\n",
        "    return fibonacci_sequence\n",
        "\n",
        "def main():\n",
        "    try:\n",
        "        max_value = int(input(\"Enter the maximum value for the Fibonacci sequence: \"))\n",
        "        if max_value < 0:\n",
        "            raise ValueError(\"The maximum value must be a non-negative integer.\")\n",
        "        sequence = generate_fibonacci(max_value)\n",
        "        print(f\"Fibonacci sequence up to {max_value}:\")\n",
        "        print(sequence)\n",
        "    except ValueError as e:\n",
        "        print(f\"Invalid input: {e}\")\n",
        "\n",
        "if __name__ == \"__main__\":\n",
        "    main()"
      ],
      "metadata": {
        "colab": {
          "base_uri": "https://localhost:8080/"
        },
        "id": "P7S1k6ggcOlN",
        "outputId": "a9da5180-d080-4342-b784-91b17e7e536f"
      },
      "execution_count": 1,
      "outputs": [
        {
          "output_type": "stream",
          "name": "stdout",
          "text": [
            "Enter the maximum value for the Fibonacci sequence: 5\n",
            "Fibonacci sequence up to 5:\n",
            "[0, 1, 1, 2, 3, 5]\n"
          ]
        }
      ]
    },
    {
      "cell_type": "code",
      "source": [
        "def rotate_list(lst, positions):\n",
        "    \"\"\"\n",
        "    Rotate the list `lst` by `positions` places.\n",
        "\n",
        "    Parameters:\n",
        "    lst (list): The list to be rotated.\n",
        "    positions (int): The number of positions to rotate the list. Positive numbers\n",
        "                      rotate to the right, negative numbers rotate to the left.\n",
        "\n",
        "    Returns:\n",
        "    list: The rotated list.\n",
        "    \"\"\"\n",
        "    if not lst or positions == 0:\n",
        "        return lst\n",
        "\n",
        "    n = len(lst)\n",
        "    positions = positions % n\n",
        "    return lst[-positions:] + lst[:-positions]\n",
        "if __name__ == \"__main__\":\n",
        "    my_list = [1, 2, 3, 4, 5]\n",
        "    num_positions = 2\n",
        "    rotated_list = rotate_list(my_list, num_positions)\n",
        "    print(f\"Original list: {my_list}\")\n",
        "    print(f\"Rotated list by {num_positions} positions: {rotated_list}\")\n"
      ],
      "metadata": {
        "colab": {
          "base_uri": "https://localhost:8080/"
        },
        "id": "zK6n_6UyiIjV",
        "outputId": "406c2b12-19a2-408c-993f-c1397fbf85e9"
      },
      "execution_count": 11,
      "outputs": [
        {
          "output_type": "stream",
          "name": "stdout",
          "text": [
            "Original list: [1, 2, 3, 4, 5]\n",
            "Rotated list by 2 positions: [4, 5, 1, 2, 3]\n"
          ]
        }
      ]
    },
    {
      "cell_type": "code",
      "source": [],
      "metadata": {
        "id": "dsMWshTCiVUx"
      },
      "execution_count": null,
      "outputs": []
    }
  ]
}